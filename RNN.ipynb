{
  "nbformat": 4,
  "nbformat_minor": 0,
  "metadata": {
    "colab": {
      "provenance": [],
      "gpuType": "T4",
      "authorship_tag": "ABX9TyMwZcB1081dNb1JGVeZMp79",
      "include_colab_link": true
    },
    "kernelspec": {
      "name": "python3",
      "display_name": "Python 3"
    },
    "language_info": {
      "name": "python"
    },
    "accelerator": "GPU"
  },
  "cells": [
    {
      "cell_type": "markdown",
      "metadata": {
        "id": "view-in-github",
        "colab_type": "text"
      },
      "source": [
        "<a href=\"https://colab.research.google.com/github/rishi-jaizz/Deep-Learning/blob/main/RNN.ipynb\" target=\"_parent\"><img src=\"https://colab.research.google.com/assets/colab-badge.svg\" alt=\"Open In Colab\"/></a>"
      ]
    },
    {
      "cell_type": "markdown",
      "source": [
        "Importing Libraries"
      ],
      "metadata": {
        "id": "hHV76S4ux28W"
      }
    },
    {
      "cell_type": "code",
      "execution_count": 1,
      "metadata": {
        "id": "Z5M1gDJKxV3f"
      },
      "outputs": [],
      "source": [
        "from tensorflow.keras.layers import SimpleRNN, LSTM, GRU, Bidirectional,Dense, Embedding\n",
        "from tensorflow.keras.datasets import imdb\n",
        "from tensorflow.keras.models import Sequential\n",
        "import numpy as np"
      ]
    },
    {
      "cell_type": "markdown",
      "source": [
        "Loading and\n",
        "Preparing\n",
        "Data"
      ],
      "metadata": {
        "id": "UrgU0rCgyiFN"
      }
    },
    {
      "cell_type": "code",
      "source": [
        "vocab_size = 5000\n",
        "(x_train, y_train), (x_test, y_test) = imdb.load_data(num_words=vocab_size)"
      ],
      "metadata": {
        "colab": {
          "base_uri": "https://localhost:8080/"
        },
        "id": "CkklO74jyjOK",
        "outputId": "b98a930e-d05e-4e0b-b88b-72004035f58d"
      },
      "execution_count": 2,
      "outputs": [
        {
          "output_type": "stream",
          "name": "stdout",
          "text": [
            "Downloading data from https://storage.googleapis.com/tensorflow/tf-keras-datasets/imdb.npz\n",
            "\u001b[1m17464789/17464789\u001b[0m \u001b[32m━━━━━━━━━━━━━━━━━━━━\u001b[0m\u001b[37m\u001b[0m \u001b[1m0s\u001b[0m 0us/step\n"
          ]
        }
      ]
    },
    {
      "cell_type": "markdown",
      "source": [
        "Getting the\n",
        "Word Index"
      ],
      "metadata": {
        "id": "U3D8ZNcGytS_"
      }
    },
    {
      "cell_type": "code",
      "source": [
        "word_idx = imdb.get_word_index()\n",
        "word_idx = {i: word for word, i in\n",
        "word_idx.items()}"
      ],
      "metadata": {
        "colab": {
          "base_uri": "https://localhost:8080/"
        },
        "id": "uZWZ5NuSyuUY",
        "outputId": "337b1017-8260-4c0e-bad9-9f032e117e05"
      },
      "execution_count": 3,
      "outputs": [
        {
          "output_type": "stream",
          "name": "stdout",
          "text": [
            "Downloading data from https://storage.googleapis.com/tensorflow/tf-keras-datasets/imdb_word_index.json\n",
            "\u001b[1m1641221/1641221\u001b[0m \u001b[32m━━━━━━━━━━━━━━━━━━━━\u001b[0m\u001b[37m\u001b[0m \u001b[1m0s\u001b[0m 0us/step\n"
          ]
        }
      ]
    },
    {
      "cell_type": "markdown",
      "source": [
        "Finding the\n",
        "Max and Min\n",
        "Review\n",
        "Lengths"
      ],
      "metadata": {
        "id": "7_tEYD6xyyDN"
      }
    },
    {
      "cell_type": "code",
      "source": [
        " # Get the minimum and the maximum length of reviews\n",
        "print(\"Max length of a review::\", len(max((x_train+x_test),key=len)))\n",
        "print(\"Min length of a review::\", len(min((x_train+x_test),key=len)))"
      ],
      "metadata": {
        "colab": {
          "base_uri": "https://localhost:8080/"
        },
        "id": "_CTkfRVNy1TF",
        "outputId": "254cd991-9a11-433e-bf76-08fbb8266a01"
      },
      "execution_count": 4,
      "outputs": [
        {
          "output_type": "stream",
          "name": "stdout",
          "text": [
            "Max length of a review:: 2697\n",
            "Min length of a review:: 70\n"
          ]
        }
      ]
    },
    {
      "cell_type": "markdown",
      "source": [
        "Padding\n",
        "Sequences"
      ],
      "metadata": {
        "id": "vNwxL-GNzDjZ"
      }
    },
    {
      "cell_type": "code",
      "source": [
        "from tensorflow.keras.preprocessing import sequence\n",
        "max_words= 400\n",
        "x_train= sequence.pad_sequences(x_train, maxlen=max_words)\n",
        "x_test= sequence.pad_sequences(x_test, maxlen=max_words)"
      ],
      "metadata": {
        "id": "MHR7QkxRzEhk"
      },
      "execution_count": 5,
      "outputs": []
    },
    {
      "cell_type": "markdown",
      "source": [
        "Splitting\n",
        "Validation\n",
        "Data"
      ],
      "metadata": {
        "id": "2Vq-HqHbzNpA"
      }
    },
    {
      "cell_type": "code",
      "source": [
        "x_valid, y_valid= x_train[:64], y_train[:64]\n",
        "x_train_, y_train_ = x_train[64:], y_train[64:]"
      ],
      "metadata": {
        "id": "9g7DndpfzOdc"
      },
      "execution_count": 6,
      "outputs": []
    },
    {
      "cell_type": "markdown",
      "source": [
        "Building the\n",
        "Model"
      ],
      "metadata": {
        "id": "yzuvjiE3zTHg"
      }
    },
    {
      "cell_type": "code",
      "source": [
        "embd_len= 32\n",
        "RNN_model= Sequential(name=\"Simple_RNN\")\n",
        "RNN_model.add(Embedding(vocab_size, embd_len, input_length=max_words))"
      ],
      "metadata": {
        "colab": {
          "base_uri": "https://localhost:8080/"
        },
        "id": "kMcCrNsVzT4H",
        "outputId": "db42cea4-c3d5-4622-cd40-e2182991bcb7"
      },
      "execution_count": 7,
      "outputs": [
        {
          "output_type": "stream",
          "name": "stderr",
          "text": [
            "/usr/local/lib/python3.10/dist-packages/keras/src/layers/core/embedding.py:90: UserWarning: Argument `input_length` is deprecated. Just remove it.\n",
            "  warnings.warn(\n"
          ]
        }
      ]
    },
    {
      "cell_type": "markdown",
      "source": [
        "Adding the\n",
        "Simple RNN\n",
        "Layer and\n",
        "adding\n",
        "Output layer"
      ],
      "metadata": {
        "id": "4qCcn6fbzasb"
      }
    },
    {
      "cell_type": "code",
      "source": [
        "RNN_model.add(SimpleRNN(128, activation='tanh', return_sequences=False))\n",
        "RNN_model.add(Dense(1, activation='sigmoid'))"
      ],
      "metadata": {
        "id": "Whij0fQkzbm2"
      },
      "execution_count": 8,
      "outputs": []
    },
    {
      "cell_type": "markdown",
      "source": [
        "Compiling\n",
        "the Model"
      ],
      "metadata": {
        "id": "4BLd_8k2zh_s"
      }
    },
    {
      "cell_type": "code",
      "source": [
        "RNN_model.compile(\n",
        "loss=\"binary_crossentropy\",\n",
        "optimizer=\"adam\",\n",
        "metrics=[\"accuracy\"]\n",
        ")"
      ],
      "metadata": {
        "id": "UHB0bcYszi9c"
      },
      "execution_count": 9,
      "outputs": []
    },
    {
      "cell_type": "code",
      "source": [
        "print(x_train_.shape)\n",
        "print(y_train.shape)"
      ],
      "metadata": {
        "colab": {
          "base_uri": "https://localhost:8080/"
        },
        "id": "mY1OPmWk1BWs",
        "outputId": "191a71f7-7ba1-4632-ed21-b4a9b0bf83b0"
      },
      "execution_count": 10,
      "outputs": [
        {
          "output_type": "stream",
          "name": "stdout",
          "text": [
            "(24936, 400)\n",
            "(25000,)\n"
          ]
        }
      ]
    },
    {
      "cell_type": "code",
      "source": [
        "y_train = y_train[:x_train_.shape[0]]\n"
      ],
      "metadata": {
        "id": "p7SBxYoN1IW_"
      },
      "execution_count": 11,
      "outputs": []
    },
    {
      "cell_type": "markdown",
      "source": [
        "Training the\n",
        "Model"
      ],
      "metadata": {
        "id": "F0afLcrX0Q_1"
      }
    },
    {
      "cell_type": "code",
      "source": [
        "history = RNN_model.fit(\n",
        "    x_train_, y_train,\n",
        "    batch_size=64,\n",
        "    epochs=5,\n",
        "    verbose=1,\n",
        "    validation_data=(x_valid, y_valid))\n",
        "\n",
        "\n"
      ],
      "metadata": {
        "colab": {
          "base_uri": "https://localhost:8080/"
        },
        "id": "ReE29sOq0SWp",
        "outputId": "d9eac16d-0424-43df-c39d-80500e0761a2"
      },
      "execution_count": 12,
      "outputs": [
        {
          "output_type": "stream",
          "name": "stdout",
          "text": [
            "Epoch 1/5\n",
            "\u001b[1m390/390\u001b[0m \u001b[32m━━━━━━━━━━━━━━━━━━━━\u001b[0m\u001b[37m\u001b[0m \u001b[1m21s\u001b[0m 45ms/step - accuracy: 0.4958 - loss: 0.6988 - val_accuracy: 0.6094 - val_loss: 0.6761\n",
            "Epoch 2/5\n",
            "\u001b[1m390/390\u001b[0m \u001b[32m━━━━━━━━━━━━━━━━━━━━\u001b[0m\u001b[37m\u001b[0m \u001b[1m16s\u001b[0m 41ms/step - accuracy: 0.5066 - loss: 0.6965 - val_accuracy: 0.4062 - val_loss: 0.7083\n",
            "Epoch 3/5\n",
            "\u001b[1m390/390\u001b[0m \u001b[32m━━━━━━━━━━━━━━━━━━━━\u001b[0m\u001b[37m\u001b[0m \u001b[1m21s\u001b[0m 41ms/step - accuracy: 0.5171 - loss: 0.6931 - val_accuracy: 0.4375 - val_loss: 0.7072\n",
            "Epoch 4/5\n",
            "\u001b[1m390/390\u001b[0m \u001b[32m━━━━━━━━━━━━━━━━━━━━\u001b[0m\u001b[37m\u001b[0m \u001b[1m21s\u001b[0m 42ms/step - accuracy: 0.5694 - loss: 0.6783 - val_accuracy: 0.6406 - val_loss: 0.6812\n",
            "Epoch 5/5\n",
            "\u001b[1m390/390\u001b[0m \u001b[32m━━━━━━━━━━━━━━━━━━━━\u001b[0m\u001b[37m\u001b[0m \u001b[1m20s\u001b[0m 41ms/step - accuracy: 0.5869 - loss: 0.6594 - val_accuracy: 0.4062 - val_loss: 0.7739\n"
          ]
        }
      ]
    },
    {
      "cell_type": "markdown",
      "source": [
        "Evaluating\n",
        "the Model"
      ],
      "metadata": {
        "id": "fW5g4uLL2STh"
      }
    },
    {
      "cell_type": "code",
      "source": [
        "print(\"Simple_RNN Score---> \",\n",
        "RNN_model.evaluate(x_test, y_test,verbose=0))"
      ],
      "metadata": {
        "id": "T9f-Sz512W7_",
        "outputId": "20976adb-d15e-486f-94e0-dd0e4378d03e",
        "colab": {
          "base_uri": "https://localhost:8080/"
        }
      },
      "execution_count": 13,
      "outputs": [
        {
          "output_type": "stream",
          "name": "stdout",
          "text": [
            "Simple_RNN Score--->  [0.7416125535964966, 0.4975999891757965]\n"
          ]
        }
      ]
    }
  ]
}