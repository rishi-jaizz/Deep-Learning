{
  "nbformat": 4,
  "nbformat_minor": 0,
  "metadata": {
    "colab": {
      "provenance": [],
      "gpuType": "T4",
      "toc_visible": true,
      "mount_file_id": "1-cWxGdtRDIFrVZSLdRAN1ATLb36sOsE4",
      "authorship_tag": "ABX9TyOeewV+/bHWby1uak6xZTHg",
      "include_colab_link": true
    },
    "kernelspec": {
      "name": "python3",
      "display_name": "Python 3"
    },
    "language_info": {
      "name": "python"
    },
    "accelerator": "GPU"
  },
  "cells": [
    {
      "cell_type": "markdown",
      "metadata": {
        "id": "view-in-github",
        "colab_type": "text"
      },
      "source": [
        "<a href=\"https://colab.research.google.com/github/rishi-jaizz/Deep-Learning/blob/main/Transfer_Learning_with_CNN.ipynb\" target=\"_parent\"><img src=\"https://colab.research.google.com/assets/colab-badge.svg\" alt=\"Open In Colab\"/></a>"
      ]
    },
    {
      "cell_type": "markdown",
      "source": [
        "#Importing Library"
      ],
      "metadata": {
        "id": "0JTAnTfmKCwy"
      }
    },
    {
      "cell_type": "code",
      "execution_count": 2,
      "metadata": {
        "id": "-fC6vYxy29vT"
      },
      "outputs": [],
      "source": [
        "import tensorflow as tf\n",
        "from tensorflow.keras import layers, models\n",
        "from tensorflow.keras.applications import VGG16\n",
        "from tensorflow.keras.datasets import mnist\n",
        "from tensorflow.keras.utils import to_categorical"
      ]
    },
    {
      "cell_type": "markdown",
      "source": [
        "#Load the MNIST dataset"
      ],
      "metadata": {
        "id": "13wzT_W2IuM-"
      }
    },
    {
      "cell_type": "code",
      "source": [
        "(train_images, train_labels), (test_images,\n",
        "test_labels) = mnist.load_data()"
      ],
      "metadata": {
        "colab": {
          "base_uri": "https://localhost:8080/"
        },
        "id": "JzZyCYtpCMfK",
        "outputId": "dccce670-086e-477d-a51e-5d2d678e106f"
      },
      "execution_count": 3,
      "outputs": [
        {
          "output_type": "stream",
          "name": "stdout",
          "text": [
            "Downloading data from https://storage.googleapis.com/tensorflow/tf-keras-datasets/mnist.npz\n",
            "\u001b[1m11490434/11490434\u001b[0m \u001b[32m━━━━━━━━━━━━━━━━━━━━\u001b[0m\u001b[37m\u001b[0m \u001b[1m1s\u001b[0m 0us/step\n"
          ]
        }
      ]
    },
    {
      "cell_type": "markdown",
      "source": [
        "#Preprocessing the data: Reshaping and normalizing the images"
      ],
      "metadata": {
        "id": "mo0eLvGkJAnm"
      }
    },
    {
      "cell_type": "code",
      "source": [
        "train_images = train_images.reshape((60000, 28, 28, 1)).astype('float32') / 255\n",
        "test_images = test_images.reshape((10000, 28, 28, 1)).astype('float32') / 255"
      ],
      "metadata": {
        "id": "rsA9pFpeCVFO"
      },
      "execution_count": 4,
      "outputs": []
    },
    {
      "cell_type": "markdown",
      "source": [
        "#Resize images to 32x32 (as VGG16 requires at least 32x32) and keep the last dimension as 1"
      ],
      "metadata": {
        "id": "SUyL0MBzJMOT"
      }
    },
    {
      "cell_type": "code",
      "source": [
        "train_images_resized = tf.image.resize(train_images,(32, 32))\n",
        "test_images_resized = tf.image.resize(test_images,(32, 32))"
      ],
      "metadata": {
        "id": "5MAOpInsCc3b"
      },
      "execution_count": 5,
      "outputs": []
    },
    {
      "cell_type": "markdown",
      "source": [
        "#Since VGG16/Mobilenet requires 3-channel input,we replicate the grayscale image across 3 channels"
      ],
      "metadata": {
        "id": "UL5uIUvQJX8Q"
      }
    },
    {
      "cell_type": "code",
      "source": [
        "train_images_rgb = tf.image.grayscale_to_rgb(train_images_resized)\n",
        "test_images_rgb = tf.image.grayscale_to_rgb(test_images_resized)"
      ],
      "metadata": {
        "id": "oIAPDIB4Cqfq"
      },
      "execution_count": 6,
      "outputs": []
    },
    {
      "cell_type": "markdown",
      "source": [
        "#Convert labels to categorical format (one-hot encoding)"
      ],
      "metadata": {
        "id": "XZeAdF3xJfPb"
      }
    },
    {
      "cell_type": "code",
      "source": [
        "train_labels = to_categorical(train_labels, 10)\n",
        "test_labels = to_categorical(test_labels, 10)"
      ],
      "metadata": {
        "id": "sJM4IZChCvKj"
      },
      "execution_count": 7,
      "outputs": []
    },
    {
      "cell_type": "markdown",
      "source": [
        "#Load a pretrained MobileNetV2 model without the classification layer"
      ],
      "metadata": {
        "id": "64sutOLbJmPu"
      }
    },
    {
      "cell_type": "code",
      "source": [
        "base_model = VGG16(weights='imagenet', include_top=False,\n",
        "input_shape=(32, 32, 3))"
      ],
      "metadata": {
        "colab": {
          "base_uri": "https://localhost:8080/"
        },
        "id": "ILDcnqXzC2Vs",
        "outputId": "9474cf7e-34fd-47d2-9f06-cbb2386f846c"
      },
      "execution_count": 8,
      "outputs": [
        {
          "output_type": "stream",
          "name": "stdout",
          "text": [
            "Downloading data from https://storage.googleapis.com/tensorflow/keras-applications/vgg16/vgg16_weights_tf_dim_ordering_tf_kernels_notop.h5\n",
            "\u001b[1m58889256/58889256\u001b[0m \u001b[32m━━━━━━━━━━━━━━━━━━━━\u001b[0m\u001b[37m\u001b[0m \u001b[1m2s\u001b[0m 0us/step\n"
          ]
        }
      ]
    },
    {
      "cell_type": "markdown",
      "source": [
        "#Freeze the pretrained layers"
      ],
      "metadata": {
        "id": "cxZndCg-JtQ3"
      }
    },
    {
      "cell_type": "code",
      "source": [
        "base_model.trainable = False"
      ],
      "metadata": {
        "id": "aouvu874C5SK"
      },
      "execution_count": 9,
      "outputs": []
    },
    {
      "cell_type": "markdown",
      "source": [
        "#Add custom layers on top of the pre-trained model"
      ],
      "metadata": {
        "id": "PTKIuPV4Jw5E"
      }
    },
    {
      "cell_type": "code",
      "source": [
        "model = models.Sequential([\n",
        "base_model, # Use VGG16 as the feature extractor\n",
        "layers.Flatten(), # Flatten the output of VGG16 to feed it to the Dense layer\n",
        "layers.Dense(64, activation='relu'), # Add a Dense layer with 64 units and ReLU activation\n",
        "layers.Dense(10, activation='softmax') # Output layer for classification into 10 classes (digits)\n",
        "])"
      ],
      "metadata": {
        "id": "s94YXhCLC8xf"
      },
      "execution_count": 10,
      "outputs": []
    },
    {
      "cell_type": "markdown",
      "source": [
        "#Compile the model"
      ],
      "metadata": {
        "id": "fVsl95eYJ1wi"
      }
    },
    {
      "cell_type": "code",
      "source": [
        "model.compile(optimizer='adam', loss='categorical_crossentropy', metrics=['accuracy'])"
      ],
      "metadata": {
        "id": "69cG8HJjDQrb"
      },
      "execution_count": 11,
      "outputs": []
    },
    {
      "cell_type": "markdown",
      "source": [
        "#Train and Evaluate"
      ],
      "metadata": {
        "id": "FBE044z2J5oT"
      }
    },
    {
      "cell_type": "code",
      "source": [
        "# Train the model\n",
        "history = model.fit(train_images_rgb, train_labels,epochs=5, batch_size=64, validation_split=0.2)\n",
        "# Evaluate the model\n",
        "test_loss, test_acc = model.evaluate(test_images_rgb,\n",
        "test_labels)\n",
        "print(f'Test Accuracy: {test_acc}')"
      ],
      "metadata": {
        "colab": {
          "base_uri": "https://localhost:8080/"
        },
        "id": "bhvk1tMLDXDp",
        "outputId": "f83f3ba1-6dc9-4e1e-f722-1b825e58570b"
      },
      "execution_count": 12,
      "outputs": [
        {
          "output_type": "stream",
          "name": "stdout",
          "text": [
            "Epoch 1/5\n",
            "\u001b[1m750/750\u001b[0m \u001b[32m━━━━━━━━━━━━━━━━━━━━\u001b[0m\u001b[37m\u001b[0m \u001b[1m18s\u001b[0m 17ms/step - accuracy: 0.7447 - loss: 0.8930 - val_accuracy: 0.9352 - val_loss: 0.2304\n",
            "Epoch 2/5\n",
            "\u001b[1m750/750\u001b[0m \u001b[32m━━━━━━━━━━━━━━━━━━━━\u001b[0m\u001b[37m\u001b[0m \u001b[1m13s\u001b[0m 11ms/step - accuracy: 0.9369 - loss: 0.2158 - val_accuracy: 0.9482 - val_loss: 0.1758\n",
            "Epoch 3/5\n",
            "\u001b[1m750/750\u001b[0m \u001b[32m━━━━━━━━━━━━━━━━━━━━\u001b[0m\u001b[37m\u001b[0m \u001b[1m8s\u001b[0m 11ms/step - accuracy: 0.9505 - loss: 0.1628 - val_accuracy: 0.9553 - val_loss: 0.1427\n",
            "Epoch 4/5\n",
            "\u001b[1m750/750\u001b[0m \u001b[32m━━━━━━━━━━━━━━━━━━━━\u001b[0m\u001b[37m\u001b[0m \u001b[1m9s\u001b[0m 12ms/step - accuracy: 0.9578 - loss: 0.1364 - val_accuracy: 0.9569 - val_loss: 0.1353\n",
            "Epoch 5/5\n",
            "\u001b[1m750/750\u001b[0m \u001b[32m━━━━━━━━━━━━━━━━━━━━\u001b[0m\u001b[37m\u001b[0m \u001b[1m9s\u001b[0m 11ms/step - accuracy: 0.9643 - loss: 0.1193 - val_accuracy: 0.9588 - val_loss: 0.1276\n",
            "\u001b[1m313/313\u001b[0m \u001b[32m━━━━━━━━━━━━━━━━━━━━\u001b[0m\u001b[37m\u001b[0m \u001b[1m3s\u001b[0m 11ms/step - accuracy: 0.9582 - loss: 0.1285\n",
            "Test Accuracy: 0.9621999859809875\n"
          ]
        }
      ]
    }
  ]
}